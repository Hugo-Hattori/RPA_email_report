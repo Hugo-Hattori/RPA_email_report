{
 "cells": [
  {
   "cell_type": "code",
   "execution_count": 1,
   "id": "2ec93b7e",
   "metadata": {},
   "outputs": [],
   "source": [
    "import pyautogui\n",
    "import time\n",
    "import pandas as pd\n",
    "import pyperclip #copia e cola o texto para casos de uso de caracteres especiais\n",
    "\n",
    "pyautogui.PAUSE = 1\n",
    "\n",
    "#Passo 1: Abrir o a página de login do sistema\n",
    "\n",
    "#Abre nova janela caso navegador esteja fechado\n",
    "pyautogui.press(\"win\")\n",
    "pyautogui.write(\"opera\")\n",
    "pyautogui.press(\"enter\")\n",
    "\n",
    "time.sleep(5)\n",
    "\n",
    "pyautogui.write(\"https://pages.hashtagtreinamentos.com/aula1-intensivao-sistema\")\n",
    "pyautogui.press(\"enter\")\n",
    "\n",
    "time.sleep(5)\n",
    "\n",
    "#Passo 2: Preencher o login\n",
    "pyautogui.click(x=968, y=376)\n",
    "pyautogui.write(username)\n",
    "\n",
    "#Passo 3: Preencher a senha\n",
    "pyautogui.click(x=968, y=452)\n",
    "pyautogui.write(password)\n",
    "\n",
    "#Passo 4: Apertar em acessar\n",
    "pyautogui.click(x=968, y=525)\n",
    "time.sleep(5)\n",
    "\n",
    "#Passo 5: Selecionar arquivo com dados do relatório\n",
    "pyautogui.click(x=420, y=459)\n",
    "\n",
    "#Passo 6: Baixar arquivo\n",
    "pyautogui.click(x=545, y=200)\n"
   ]
  },
  {
   "cell_type": "code",
   "execution_count": 2,
   "id": "5dfb1939",
   "metadata": {
    "scrolled": true
   },
   "outputs": [],
   "source": [
    "#Passo 7: Cálculo dos indicadores\n",
    "tabela = pd.read_csv(r\"C:\\Users\\Hugo\\Downloads\\Compras.csv\", sep=\";\")\n",
    "\n",
    "total_gasto = tabela[\"ValorFinal\"].sum()\n",
    "quantidade = tabela[\"Quantidade\"].sum()\n",
    "preco_medio = total_gasto/quantidade\n",
    "\n",
    "time.sleep(5)"
   ]
  },
  {
   "cell_type": "code",
   "execution_count": 3,
   "id": "cd9636bd",
   "metadata": {},
   "outputs": [],
   "source": [
    "#Passo 8: Entrar no e-mail: https://mail.google.com/mail/u/0/?tab=om#inbox\n",
    "pyautogui.hotkey(\"ctrl\", \"t\")\n",
    "pyautogui.write(\"https://mail.google.com/mail/u/0/?tab=om#inbox\")\n",
    "pyautogui.press(\"enter\")\n",
    "time.sleep(5)\n",
    "\n",
    "#Passo 9: Clicar em \"escrever\"\n",
    "pyautogui.click(x=138, y=195)\n",
    "time.sleep(5)\n",
    "#Passo 10: escrever o destinatário\n",
    "pyautogui.write(\"136493140+Hugo-Hattori@users.noreply.github.com\")\n",
    "pyautogui.press(\"tab\") #confirma o destinatário\n",
    "pyautogui.press(\"tab\") #passa para o próximo campo\n",
    "\n",
    "#Passo 11: escrever assunto\n",
    "pyperclip.copy(\"Relatório de Compras\") \n",
    "pyautogui.hotkey(\"ctrl\",\"v\")\n",
    "pyautogui.press(\"tab\")\n",
    "\n",
    "#Passo 12: escrever corpo do texto\n",
    "texto = f\"\"\"\n",
    "Prezados,\n",
    "Segue resumo das compras:\n",
    "\n",
    "Gasto Total: R${total_gasto:,.2f}\n",
    "Quantidade: {quantidade:,}\n",
    "Preço Médio: R${preco_medio:,.2f}\n",
    "\n",
    "Att.,\n",
    "Hugo Hatori\"\"\"\n",
    "\n",
    "pyperclip.copy(texto)\n",
    "pyautogui.hotkey(\"ctrl\",\"v\")\n",
    "\n",
    "pyautogui.hotkey(\"ctrl\",\"enter\") #envia o e-mail"
   ]
  }
 ],
 "metadata": {
  "kernelspec": {
   "display_name": "Python 3 (ipykernel)",
   "language": "python",
   "name": "python3"
  },
  "language_info": {
   "codemirror_mode": {
    "name": "ipython",
    "version": 3
   },
   "file_extension": ".py",
   "mimetype": "text/x-python",
   "name": "python",
   "nbconvert_exporter": "python",
   "pygments_lexer": "ipython3",
   "version": "3.10.9"
  }
 },
 "nbformat": 4,
 "nbformat_minor": 5
}
